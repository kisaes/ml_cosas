{
 "nbformat": 4,
 "nbformat_minor": 0,
 "metadata": {
  "colab": {
   "private_outputs": true,
   "provenance": []
  },
  "kernelspec": {
   "name": "python3",
   "display_name": "Python 3"
  },
  "language_info": {
   "name": "python"
  }
 },
 "cells": [
  {
   "cell_type": "code",
   "source": [
    "!git clone https://github.com/kisaes/ml_cosas"
   ],
   "metadata": {
    "id": "Aiah111jziVL"
   },
   "execution_count": null,
   "outputs": []
  },
  {
   "cell_type": "code",
   "source": [
    "import sys\n",
    "\n",
    "sys.path.append(\"ml_cosas\")"
   ],
   "metadata": {
    "id": "hLQA8_47zkBm"
   },
   "execution_count": null,
   "outputs": []
  },
  {
   "cell_type": "code",
   "source": [
    "import numpy as np\n",
    "from sklearn.datasets import load_breast_cancer\n",
    "from ml_cosas.decision_tree import DecisionTreeClassifier"
   ],
   "metadata": {
    "id": "_0GEcWi0yiei"
   },
   "execution_count": null,
   "outputs": []
  },
  {
   "cell_type": "code",
   "source": [
    "X, y = load_breast_cancer(return_X_y=True)"
   ],
   "metadata": {
    "id": "o4QlMan0JFsf"
   },
   "execution_count": null,
   "outputs": []
  },
  {
   "cell_type": "code",
   "source": [
    "offset = X.shape[0] // 5\n",
    "x_train, x_test = X[:-offset], X[-offset:]\n",
    "y_train, y_test = y[:-offset], y[-offset:]"
   ],
   "metadata": {
    "id": "2Snr9dibRVEP"
   },
   "execution_count": null,
   "outputs": []
  },
  {
   "cell_type": "code",
   "source": [
    "tree = DecisionTreeClassifier(max_depth=5)\n",
    "tree.fit(x_train, y_train)"
   ],
   "metadata": {
    "id": "XhrvHdlDRJMR"
   },
   "execution_count": null,
   "outputs": []
  },
  {
   "cell_type": "code",
   "source": [
    "np.mean(tree.predict(x_test) == y_test)"
   ],
   "metadata": {
    "id": "qIf2hDKgRusI"
   },
   "execution_count": null,
   "outputs": []
  },
  {
   "cell_type": "code",
   "source": [
    "tree._start"
   ],
   "metadata": {
    "id": "jJiIWhhXUsDO"
   },
   "execution_count": null,
   "outputs": []
  }
 ]
}