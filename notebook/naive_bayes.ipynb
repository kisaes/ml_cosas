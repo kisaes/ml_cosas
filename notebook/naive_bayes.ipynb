{
  "nbformat": 4,
  "nbformat_minor": 0,
  "metadata": {
    "colab": {
      "private_outputs": true,
      "provenance": []
    },
    "kernelspec": {
      "name": "python3",
      "display_name": "Python 3"
    },
    "language_info": {
      "name": "python"
    }
  },
  "cells": [
    {
      "cell_type": "code",
      "source": [
        "!git clone https://github.com/kisaes/ml_cosas"
      ],
      "metadata": {
        "id": "Aiah111jziVL"
      },
      "execution_count": null,
      "outputs": []
    },
    {
      "cell_type": "code",
      "source": [
        "import sys\n",
        "\n",
        "sys.path.append(\"ml_cosas\")"
      ],
      "metadata": {
        "id": "hLQA8_47zkBm"
      },
      "execution_count": null,
      "outputs": []
    },
    {
      "cell_type": "code",
      "source": [
        "import numpy as np\n",
        "from sklearn.datasets import load_breast_cancer\n",
        "from ml_cosas.naive_bayes import NaiveBayesClassifier"
      ],
      "metadata": {
        "id": "_0GEcWi0yiei"
      },
      "execution_count": null,
      "outputs": []
    },
    {
      "cell_type": "code",
      "source": [
        "X, y = load_breast_cancer(return_X_y=True)"
      ],
      "metadata": {
        "id": "o4QlMan0JFsf"
      },
      "execution_count": null,
      "outputs": []
    },
    {
      "cell_type": "code",
      "source": [
        "offset = X.shape[0] // 5\n",
        "x_train, x_test = X[:-offset], X[-offset:]\n",
        "y_train, y_test = y[:-offset], y[-offset:]"
      ],
      "metadata": {
        "id": "2Snr9dibRVEP"
      },
      "execution_count": null,
      "outputs": []
    },
    {
      "cell_type": "code",
      "source": [
        "naive = NaiveBayesClassifier()\n",
        "naive.fit(x_train, y_train)"
      ],
      "metadata": {
        "id": "oCfvDVdjtVO3"
      },
      "execution_count": null,
      "outputs": []
    },
    {
      "cell_type": "code",
      "source": [
        "np.mean(naive.predict(x_test) == y_test)"
      ],
      "metadata": {
        "id": "_b-wC9t3toqD"
      },
      "execution_count": null,
      "outputs": []
    }
  ]
}