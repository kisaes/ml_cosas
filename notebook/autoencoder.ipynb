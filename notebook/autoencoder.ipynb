{
 "nbformat": 4,
 "nbformat_minor": 0,
 "metadata": {
  "colab": {
   "private_outputs": true,
   "provenance": []
  },
  "kernelspec": {
   "name": "python3",
   "display_name": "Python 3"
  },
  "language_info": {
   "name": "python"
  }
 },
 "cells": [
  {
   "cell_type": "code",
   "source": [
    "!git clone https://github.com/kisaes/ml_cosas"
   ],
   "metadata": {
    "id": "Aiah111jziVL"
   },
   "execution_count": null,
   "outputs": []
  },
  {
   "cell_type": "code",
   "source": [
    "import sys\n",
    "\n",
    "sys.path.append(\"ml_cosas\")"
   ],
   "metadata": {
    "id": "hLQA8_47zkBm"
   },
   "execution_count": null,
   "outputs": []
  },
  {
   "cell_type": "code",
   "source": [
    "import numpy as np\n",
    "import matplotlib.pyplot as plt\n",
    "from sklearn.datasets import load_digits"
   ],
   "metadata": {
    "id": "_0GEcWi0yiei"
   },
   "execution_count": null,
   "outputs": []
  },
  {
   "cell_type": "code",
   "source": [
    "from ml_cosas.neural_networks.linear import Linear\n",
    "from ml_cosas.neural_networks.adagrad import Adagrad"
   ],
   "metadata": {
    "id": "yR6tHZup-tNn"
   },
   "execution_count": null,
   "outputs": []
  },
  {
   "cell_type": "code",
   "execution_count": null,
   "metadata": {
    "id": "pMilJeQaFDnS"
   },
   "outputs": [],
   "source": [
    "X, _ = load_digits(return_X_y=True)"
   ]
  },
  {
   "cell_type": "code",
   "source": [
    "offset = X.shape[0] // 5\n",
    "x_train, x_test = X[:-offset], X[-offset:]"
   ],
   "metadata": {
    "id": "2Snr9dibRVEP"
   },
   "execution_count": null,
   "outputs": []
  },
  {
   "cell_type": "code",
   "source": [
    "encoder = Linear(64, 48)\n",
    "decoder = Linear(48, 64)"
   ],
   "metadata": {
    "id": "FpklEhG1K6vR"
   },
   "execution_count": null,
   "outputs": []
  },
  {
   "cell_type": "code",
   "source": [
    "optimizer = Adagrad(0.01)\n",
    "for epoch in range(50):\n",
    "    output1 = encoder(x_train)\n",
    "    output2 = decoder(output1)\n",
    "\n",
    "    temp = x_train - output2\n",
    "    loss, grads = np.mean(temp**2), -2 * temp / len(temp)\n",
    "\n",
    "    grads = decoder.backprop(grads)\n",
    "    _ = encoder.backprop(grads)\n",
    "\n",
    "    for layer in (encoder, decoder):\n",
    "        train_vars = layer.trainable_vars\n",
    "        for i, gradient in enumerate(layer.gradients):\n",
    "            optimizer.update_parameter(train_vars[i], gradient)"
   ],
   "metadata": {
    "id": "YJdXmEfDNYOH"
   },
   "execution_count": null,
   "outputs": []
  },
  {
   "cell_type": "code",
   "source": [
    "encoded_imgs = encoder(x_test)\n",
    "decoded_imgs = decoder(encoded_imgs)"
   ],
   "metadata": {
    "id": "NYFYFeoaRVnn"
   },
   "execution_count": null,
   "outputs": []
  },
  {
   "cell_type": "code",
   "source": [
    "n = 10\n",
    "plt.figure(figsize=(20, 4))\n",
    "for i in range(n):\n",
    "    # Display original\n",
    "    ax = plt.subplot(2, n, i + 1)\n",
    "    plt.imshow(x_test[i].reshape(8, 8))\n",
    "    plt.gray()\n",
    "    ax.get_xaxis().set_visible(False)\n",
    "    ax.get_yaxis().set_visible(False)\n",
    "\n",
    "    # Display reconstruction\n",
    "    ax = plt.subplot(2, n, i + 1 + n)\n",
    "    plt.imshow(decoded_imgs[i].reshape(8, 8))\n",
    "    plt.gray()\n",
    "    ax.get_xaxis().set_visible(False)\n",
    "    ax.get_yaxis().set_visible(False)\n",
    "plt.show()"
   ],
   "metadata": {
    "id": "x5-50ueYQ1fp"
   },
   "execution_count": null,
   "outputs": []
  },
  {
   "cell_type": "code",
   "source": [
    "from ml_cosas.neural_networks.relu import ReLU"
   ],
   "metadata": {
    "id": "gglyPvJoUiIq"
   },
   "execution_count": null,
   "outputs": []
  },
  {
   "cell_type": "code",
   "source": [
    "encoder_lin = Linear(64, 48)\n",
    "encoder_act = ReLU()\n",
    "decoder_lin = Linear(48, 64)\n",
    "decoder_act = ReLU()"
   ],
   "metadata": {
    "id": "Weq4h6PXU6iV"
   },
   "execution_count": null,
   "outputs": []
  },
  {
   "cell_type": "code",
   "source": [
    "optimizer = Adagrad(0.01)\n",
    "for epoch in range(50):\n",
    "    output1 = encoder_lin(x_train)\n",
    "    output2 = encoder_act(output1)\n",
    "    output3 = decoder_lin(output2)\n",
    "    output4 = decoder_act(output3)\n",
    "\n",
    "    temp = x_train - output4\n",
    "    loss, grads = np.mean(temp**2), -2 * temp / len(temp)\n",
    "\n",
    "    grads = decoder_act.backprop(grads)\n",
    "    grads = decoder_lin.backprop(grads)\n",
    "    grads = encoder_act.backprop(grads)\n",
    "    _ = encoder_lin.backprop(grads)\n",
    "\n",
    "    for layer in (encoder_lin, decoder_lin):\n",
    "        train_vars = layer.trainable_vars\n",
    "        for i, gradient in enumerate(layer.gradients):\n",
    "            optimizer.update_parameter(train_vars[i], gradient)"
   ],
   "metadata": {
    "id": "Fw2fBvluVL3j"
   },
   "execution_count": null,
   "outputs": []
  },
  {
   "cell_type": "code",
   "source": [
    "encoded_imgs = encoder_act(encoder_lin(x_test))\n",
    "decoded_imgs = decoder_act(decoder_lin(encoded_imgs))"
   ],
   "metadata": {
    "id": "SeuVvQy1WDmS"
   },
   "execution_count": null,
   "outputs": []
  },
  {
   "cell_type": "code",
   "source": [
    "n = 10\n",
    "plt.figure(figsize=(20, 4))\n",
    "for i in range(n):\n",
    "    # Display original\n",
    "    ax = plt.subplot(2, n, i + 1)\n",
    "    plt.imshow(x_test[i].reshape(8, 8))\n",
    "    plt.gray()\n",
    "    ax.get_xaxis().set_visible(False)\n",
    "    ax.get_yaxis().set_visible(False)\n",
    "\n",
    "    # Display reconstruction\n",
    "    ax = plt.subplot(2, n, i + 1 + n)\n",
    "    plt.imshow(decoded_imgs[i].reshape(8, 8))\n",
    "    plt.gray()\n",
    "    ax.get_xaxis().set_visible(False)\n",
    "    ax.get_yaxis().set_visible(False)\n",
    "plt.show()"
   ],
   "metadata": {
    "id": "y_uM_oSHWDmT"
   },
   "execution_count": null,
   "outputs": []
  },
  {
   "cell_type": "code",
   "source": [
    "noise_factor = 0.95\n",
    "x_test_noisy = x_test + noise_factor * np.random.normal(\n",
    "    loc=0.0, scale=1.0, size=x_test.shape\n",
    ")"
   ],
   "metadata": {
    "id": "IcTsEXr4YEu-"
   },
   "execution_count": null,
   "outputs": []
  },
  {
   "cell_type": "code",
   "source": [
    "encoded_imgs = encoder_act(encoder_lin(x_test_noisy))\n",
    "decoded_imgs = decoder_act(decoder_lin(encoded_imgs))"
   ],
   "metadata": {
    "id": "MFuSpKQ8YY6s"
   },
   "execution_count": null,
   "outputs": []
  },
  {
   "cell_type": "code",
   "source": [
    "n = 10\n",
    "plt.figure(figsize=(20, 4))\n",
    "for i in range(n):\n",
    "    # Display original\n",
    "    ax = plt.subplot(2, n, i + 1)\n",
    "    plt.imshow(x_test_noisy[i].reshape(8, 8))\n",
    "    plt.gray()\n",
    "    ax.get_xaxis().set_visible(False)\n",
    "    ax.get_yaxis().set_visible(False)\n",
    "\n",
    "    # Display reconstruction\n",
    "    ax = plt.subplot(2, n, i + 1 + n)\n",
    "    plt.imshow(decoded_imgs[i].reshape(8, 8))\n",
    "    plt.gray()\n",
    "    ax.get_xaxis().set_visible(False)\n",
    "    ax.get_yaxis().set_visible(False)\n",
    "plt.show()"
   ],
   "metadata": {
    "id": "f17HQPycYY6t"
   },
   "execution_count": null,
   "outputs": []
  }
 ]
}